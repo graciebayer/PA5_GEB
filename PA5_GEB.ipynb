{
 "cells": [
  {
   "cell_type": "markdown",
   "id": "64cbe215",
   "metadata": {},
   "source": [
    "# CS-150-01 Fall 2021 Programming Assignment 5 - Working With Dictionaries"
   ]
  },
  {
   "cell_type": "markdown",
   "id": "9d66fc35",
   "metadata": {},
   "source": [
    "## *Gracie Bayer 11/09/21*"
   ]
  },
  {
   "cell_type": "markdown",
   "id": "a929f85e",
   "metadata": {},
   "source": [
    "### a. Language Translator"
   ]
  },
  {
   "cell_type": "code",
   "execution_count": 3,
   "id": "b665221e",
   "metadata": {},
   "outputs": [
    {
     "name": "stdout",
     "output_type": "stream",
     "text": [
      "Give an English word one-twenty for a Spanish translation (Enter 0 to stop): dog\n",
      "perro\n",
      "Give an English word one-twenty for a Spanish translation (Enter 0 to stop: )cat\n",
      "gato\n",
      "Give an English word one-twenty for a Spanish translation (Enter 0 to stop: )hello\n",
      "Hola\n",
      "Give an English word one-twenty for a Spanish translation (Enter 0 to stop: )goodbye\n",
      "adiós\n",
      "Give an English word one-twenty for a Spanish translation (Enter 0 to stop: )table\n",
      "mesa\n",
      "Give an English word one-twenty for a Spanish translation (Enter 0 to stop: )chair\n",
      "silla\n",
      "Give an English word one-twenty for a Spanish translation (Enter 0 to stop: )work\n",
      "trabaja\n",
      "Give an English word one-twenty for a Spanish translation (Enter 0 to stop: )school\n",
      "colegio\n",
      "Give an English word one-twenty for a Spanish translation (Enter 0 to stop: )workout\n",
      "ejercicio\n",
      "Give an English word one-twenty for a Spanish translation (Enter 0 to stop: )day\n",
      "día\n",
      "Give an English word one-twenty for a Spanish translation (Enter 0 to stop: )night\n",
      "noche\n",
      "Give an English word one-twenty for a Spanish translation (Enter 0 to stop: )breakfast\n",
      "desayuno\n",
      "Give an English word one-twenty for a Spanish translation (Enter 0 to stop: )lunch\n",
      "comida\n",
      "Give an English word one-twenty for a Spanish translation (Enter 0 to stop: )dinner\n",
      "cena\n",
      "Give an English word one-twenty for a Spanish translation (Enter 0 to stop: )spring\n",
      "primavera\n",
      "Give an English word one-twenty for a Spanish translation (Enter 0 to stop: )summer\n",
      "verano\n",
      "Give an English word one-twenty for a Spanish translation (Enter 0 to stop: )fall\n",
      "otoño\n",
      "Give an English word one-twenty for a Spanish translation (Enter 0 to stop: )winter\n",
      "invierno\n",
      "Give an English word one-twenty for a Spanish translation (Enter 0 to stop: )girl\n",
      "muchacha\n",
      "Give an English word one-twenty for a Spanish translation (Enter 0 to stop: )boy\n",
      "chico\n",
      "Give an English word one-twenty for a Spanish translation (Enter 0 to stop: )0\n"
     ]
    }
   ],
   "source": [
    "Translator={'dog':'perro','cat':'gato','hello':'Hola','goodbye':'adiós','table':'mesa','chair':'silla','work':'trabaja','school':'colegio','workout':'ejercicio','day':'día','night':'noche','breakfast':'desayuno','lunch':'comida','dinner':'cena','spring':'primavera','summer':'verano','fall':'otoño','winter':'invierno','girl':'muchacha','boy':'chico'}\n",
    "word=input(\"Give an English word one-twenty for a Spanish translation (Enter 0 to stop): \")\n",
    "while True:\n",
    "    if word=='0':\n",
    "        break\n",
    "    else:\n",
    "        print(Translator[word])\n",
    "        word=input(\"Give an English word one-twenty for a Spanish translation (Enter 0 to stop: )\")"
   ]
  },
  {
   "cell_type": "markdown",
   "id": "e6789e3e",
   "metadata": {},
   "source": [
    "### b. Temperature Converter"
   ]
  },
  {
   "cell_type": "code",
   "execution_count": 4,
   "id": "3e1c04ad",
   "metadata": {},
   "outputs": [
    {
     "name": "stdout",
     "output_type": "stream",
     "text": [
      "{1: 29.444444444444446, 2: 28.333333333333336, 3: 28.88888888888889, 4: 28.88888888888889, 5: 34.44444444444444, 6: 30.555555555555557, 7: 24.444444444444446, 8: 29.444444444444446, 9: 28.333333333333336, 10: 28.88888888888889, 11: 28.88888888888889, 12: 27.77777777777778, 13: 30.555555555555557, 14: 30.0, 15: 29.444444444444446, 16: 27.222222222222225, 17: 27.77777777777778, 18: 28.88888888888889, 19: 30.555555555555557, 20: 31.666666666666668, 21: 31.666666666666668, 22: 28.88888888888889, 23: 29.444444444444446, 24: 31.666666666666668, 25: 31.666666666666668, 26: 30.0, 27: 25.555555555555557, 28: 25.555555555555557, 29: 21.666666666666668, 30: 21.666666666666668}\n"
     ]
    }
   ],
   "source": [
    "weather={1 : 85,\n",
    "        2 : 83,\n",
    "        3 : 84,\n",
    "        4 : 84,\n",
    "        5 : 94,\n",
    "        6 : 87,\n",
    "        7 : 76,\n",
    "        8 : 85,\n",
    "        9 : 83,\n",
    "        10 : 84,\n",
    "        11 : 84,\n",
    "        12 : 82,\n",
    "        13 : 87,\n",
    "        14 : 86,\n",
    "        15 : 85,\n",
    "        16 : 81,\n",
    "        17 : 82,\n",
    "        18 : 84,\n",
    "        19 : 87,\n",
    "        20 : 89,\n",
    "        21 : 89,\n",
    "        22 : 84,\n",
    "        23 : 85,\n",
    "        24 : 89,\n",
    "        25 : 89,\n",
    "        26 : 86,\n",
    "        27 : 78,\n",
    "        28 : 78,\n",
    "        29 : 71,\n",
    "        30 : 71}\n",
    "weather = {day : (5/9)*(temp-32) for (day,temp) in weather.items()}\n",
    "print(weather)"
   ]
  },
  {
   "cell_type": "code",
   "execution_count": 5,
   "id": "832317cd",
   "metadata": {},
   "outputs": [
    {
     "name": "stdout",
     "output_type": "stream",
     "text": [
      "[(29, 21.666666666666668), (30, 21.666666666666668), (7, 24.444444444444446), (27, 25.555555555555557), (28, 25.555555555555557), (16, 27.222222222222225), (12, 27.77777777777778), (17, 27.77777777777778), (2, 28.333333333333336), (9, 28.333333333333336), (3, 28.88888888888889), (4, 28.88888888888889), (10, 28.88888888888889), (11, 28.88888888888889), (18, 28.88888888888889), (22, 28.88888888888889), (1, 29.444444444444446), (8, 29.444444444444446), (15, 29.444444444444446), (23, 29.444444444444446), (14, 30.0), (26, 30.0), (6, 30.555555555555557), (13, 30.555555555555557), (19, 30.555555555555557), (20, 31.666666666666668), (21, 31.666666666666668), (24, 31.666666666666668), (25, 31.666666666666668), (5, 34.44444444444444)]\n",
      "(29, 21.666666666666668)\n",
      "(25, 31.666666666666668)\n"
     ]
    }
   ],
   "source": [
    "x=list(weather.items())\n",
    "x.sort(key=lambda x: x[1])\n",
    "print(x)\n",
    "print(x[0])\n",
    "print(x[-2])"
   ]
  },
  {
   "cell_type": "code",
   "execution_count": 7,
   "id": "7e76191e",
   "metadata": {},
   "outputs": [
    {
     "name": "stdout",
     "output_type": "stream",
     "text": [
      "The coolest day was on September  29\n",
      "The coolest day was on September  30\n",
      "The second hottest day was on September  20\n",
      "The second hottest day was on September  21\n",
      "The second hottest day was on September  24\n",
      "The second hottest day was on September  25\n"
     ]
    },
    {
     "data": {
      "text/plain": [
       "{1: 29.444444444444443,\n",
       " 2: 28.333333333333332,\n",
       " 3: 28.88888888888889,\n",
       " 4: 28.88888888888889,\n",
       " 5: 34.44444444444444,\n",
       " 6: 30.555555555555557,\n",
       " 7: 24.444444444444443,\n",
       " 8: 29.444444444444443,\n",
       " 9: 28.333333333333332,\n",
       " 10: 28.88888888888889,\n",
       " 11: 28.88888888888889,\n",
       " 12: 27.77777777777778,\n",
       " 13: 30.555555555555557,\n",
       " 14: 30.0,\n",
       " 15: 29.444444444444443,\n",
       " 16: 27.22222222222222,\n",
       " 17: 27.77777777777778,\n",
       " 18: 28.88888888888889,\n",
       " 19: 30.555555555555557,\n",
       " 20: 31.666666666666668,\n",
       " 21: 31.666666666666668,\n",
       " 22: 28.88888888888889,\n",
       " 23: 29.444444444444443,\n",
       " 24: 31.666666666666668,\n",
       " 25: 31.666666666666668,\n",
       " 26: 30.0,\n",
       " 27: 25.555555555555557,\n",
       " 28: 25.555555555555557,\n",
       " 29: 21.666666666666668,\n",
       " 30: 21.666666666666668}"
      ]
     },
     "execution_count": 7,
     "metadata": {},
     "output_type": "execute_result"
    }
   ],
   "source": [
    "SepTemp={1:85,2:83,3:84,4:84,5:94,6:87,7:76,8:85,9:83,10:84,11:84,12:82,13:87,14:86,15:85,16:81,17:82,18:84,19:87,20:89,21:89,22:84,23:85,24:89,25:89,26:86,27:78,28:78,29:71,30:71}\n",
    "x=list(SepTemp.values())\n",
    "y=list(SepTemp.keys())\n",
    "import numpy as np\n",
    "farh=np.array(x)\n",
    "cel=((farh-32)*5/9)\n",
    "SepTemp=dict(zip(y,cel))\n",
    "coolest=min(SepTemp.values())\n",
    "for key in SepTemp:\n",
    "    if SepTemp[key]==coolest:\n",
    "        print(\"The coolest day was on September \", key)\n",
    "max2=(list(sorted(SepTemp.values()))[-2])\n",
    "for key in SepTemp:\n",
    "    if SepTemp[key]==max2:\n",
    "        print(\"The second hottest day was on September \", key)\n",
    "SepTemp"
   ]
  },
  {
   "cell_type": "markdown",
   "id": "05400ca8",
   "metadata": {},
   "source": [
    "### c. Set Operations"
   ]
  },
  {
   "cell_type": "code",
   "execution_count": 25,
   "id": "fe684cd5",
   "metadata": {},
   "outputs": [],
   "source": [
    "SetA={0, 40, 10, 20, 30}\n",
    "SetB={0, 35, 5, 40, 10, 45, 15, 20, 25, 30}"
   ]
  },
  {
   "cell_type": "code",
   "execution_count": 26,
   "id": "a65982cf",
   "metadata": {},
   "outputs": [
    {
     "name": "stdout",
     "output_type": "stream",
     "text": [
      "{0, 40, 10, 20, 30}\n",
      "{0, 35, 5, 40, 10, 45, 15, 20, 25, 30}\n"
     ]
    }
   ],
   "source": [
    "print(SetA)\n",
    "print(SetB)"
   ]
  },
  {
   "cell_type": "markdown",
   "id": "414ce9ee",
   "metadata": {},
   "source": [
    "#### 1. symmetric difference (^)\n",
    "Displays elements that are in the left operand, but not the right operand."
   ]
  },
  {
   "cell_type": "code",
   "execution_count": 15,
   "id": "d5658459",
   "metadata": {},
   "outputs": [
    {
     "data": {
      "text/plain": [
       "{5, 15, 25, 35, 45}"
      ]
     },
     "execution_count": 15,
     "metadata": {},
     "output_type": "execute_result"
    }
   ],
   "source": [
    "SetA^SetB"
   ]
  },
  {
   "cell_type": "markdown",
   "id": "12c981c2",
   "metadata": {},
   "source": [
    "#### 2. .isdisjoint()\n",
    "Returns True if no items in set A are present in set B."
   ]
  },
  {
   "cell_type": "code",
   "execution_count": 16,
   "id": "c1ee9246",
   "metadata": {},
   "outputs": [
    {
     "data": {
      "text/plain": [
       "False"
      ]
     },
     "execution_count": 16,
     "metadata": {},
     "output_type": "execute_result"
    }
   ],
   "source": [
    "SetA.isdisjoint(SetB)"
   ]
  },
  {
   "cell_type": "code",
   "execution_count": 17,
   "id": "594b041c",
   "metadata": {},
   "outputs": [
    {
     "data": {
      "text/plain": [
       "False"
      ]
     },
     "execution_count": 17,
     "metadata": {},
     "output_type": "execute_result"
    }
   ],
   "source": [
    "SetB.isdisjoint(SetA)"
   ]
  },
  {
   "cell_type": "markdown",
   "id": "cab37fa0",
   "metadata": {},
   "source": [
    "#### 3. intersection_update(&=)\n",
    "Displays all elements that appear in both sets."
   ]
  },
  {
   "cell_type": "code",
   "execution_count": 19,
   "id": "8d7e4062",
   "metadata": {},
   "outputs": [
    {
     "data": {
      "text/plain": [
       "{0, 10, 20, 30, 40}"
      ]
     },
     "execution_count": 19,
     "metadata": {},
     "output_type": "execute_result"
    }
   ],
   "source": [
    "SetA&SetB"
   ]
  },
  {
   "cell_type": "markdown",
   "id": "d5bd9727",
   "metadata": {},
   "source": [
    "#### 4. symmetric_difference (^=)\n",
    "This method returns a set that contains all items from both set, but not the items that are present in both sets."
   ]
  },
  {
   "cell_type": "code",
   "execution_count": 21,
   "id": "74284a68",
   "metadata": {},
   "outputs": [
    {
     "data": {
      "text/plain": [
       "{0, 10, 20, 30, 40}"
      ]
     },
     "execution_count": 21,
     "metadata": {},
     "output_type": "execute_result"
    }
   ],
   "source": [
    "SetA.symmetric_difference(SetB)"
   ]
  },
  {
   "cell_type": "markdown",
   "id": "cef69f08",
   "metadata": {},
   "source": [
    "#### 5. remove()\n",
    "Works the same as \"discard\" function, except \"remove\" will generate an error."
   ]
  },
  {
   "cell_type": "code",
   "execution_count": 29,
   "id": "a0f743be",
   "metadata": {},
   "outputs": [
    {
     "ename": "KeyError",
     "evalue": "40",
     "output_type": "error",
     "traceback": [
      "\u001b[0;31m---------------------------------------------------------------------------\u001b[0m",
      "\u001b[0;31mKeyError\u001b[0m                                  Traceback (most recent call last)",
      "\u001b[0;32m<ipython-input-29-e4ab500b5624>\u001b[0m in \u001b[0;36m<module>\u001b[0;34m\u001b[0m\n\u001b[0;32m----> 1\u001b[0;31m \u001b[0mSetA\u001b[0m\u001b[0;34m.\u001b[0m\u001b[0mremove\u001b[0m\u001b[0;34m(\u001b[0m\u001b[0;36m40\u001b[0m\u001b[0;34m)\u001b[0m\u001b[0;34m\u001b[0m\u001b[0;34m\u001b[0m\u001b[0m\n\u001b[0m",
      "\u001b[0;31mKeyError\u001b[0m: 40"
     ]
    }
   ],
   "source": [
    "SetA.remove(40)"
   ]
  },
  {
   "cell_type": "markdown",
   "id": "dc7daa12",
   "metadata": {},
   "source": [
    "#### 6. discard()\n",
    "Removes items in a set without generating an error."
   ]
  },
  {
   "cell_type": "code",
   "execution_count": 27,
   "id": "9dbb5097",
   "metadata": {},
   "outputs": [],
   "source": [
    "SetA.discard(40)"
   ]
  },
  {
   "cell_type": "code",
   "execution_count": 28,
   "id": "490273f2",
   "metadata": {},
   "outputs": [
    {
     "data": {
      "text/plain": [
       "{0, 10, 20, 30}"
      ]
     },
     "execution_count": 28,
     "metadata": {},
     "output_type": "execute_result"
    }
   ],
   "source": [
    "SetA"
   ]
  },
  {
   "cell_type": "markdown",
   "id": "92fb335e",
   "metadata": {},
   "source": [
    "#### 7. pop()\n",
    "Gets a random element and **removes** it from the set."
   ]
  },
  {
   "cell_type": "code",
   "execution_count": 30,
   "id": "333b4772",
   "metadata": {},
   "outputs": [
    {
     "data": {
      "text/plain": [
       "0"
      ]
     },
     "execution_count": 30,
     "metadata": {},
     "output_type": "execute_result"
    }
   ],
   "source": [
    "SetB.pop()"
   ]
  },
  {
   "cell_type": "code",
   "execution_count": 31,
   "id": "7a485a52",
   "metadata": {},
   "outputs": [
    {
     "data": {
      "text/plain": [
       "35"
      ]
     },
     "execution_count": 31,
     "metadata": {},
     "output_type": "execute_result"
    }
   ],
   "source": [
    "SetB.pop()"
   ]
  }
 ],
 "metadata": {
  "kernelspec": {
   "display_name": "Python 3",
   "language": "python",
   "name": "python3"
  },
  "language_info": {
   "codemirror_mode": {
    "name": "ipython",
    "version": 3
   },
   "file_extension": ".py",
   "mimetype": "text/x-python",
   "name": "python",
   "nbconvert_exporter": "python",
   "pygments_lexer": "ipython3",
   "version": "3.8.8"
  }
 },
 "nbformat": 4,
 "nbformat_minor": 5
}
